{
 "cells": [
  {
   "cell_type": "code",
   "execution_count": 44,
   "metadata": {},
   "outputs": [],
   "source": [
    "import bs4\n",
    "import requests\n"
   ]
  },
  {
   "cell_type": "code",
   "execution_count": 45,
   "metadata": {},
   "outputs": [],
   "source": [
    "data=requests.get('https://pages.mtu.edu/~suits/notefreqs.html')\n",
    "freq_web=bs4.BeautifulSoup(data.content,'html.parser')"
   ]
  },
  {
   "cell_type": "code",
   "execution_count": 46,
   "metadata": {},
   "outputs": [],
   "source": [
    "body=list(freq_web.children)[2]"
   ]
  },
  {
   "cell_type": "code",
   "execution_count": 47,
   "metadata": {},
   "outputs": [],
   "source": [
    "body_tag=list(body.children)[3]"
   ]
  },
  {
   "cell_type": "code",
   "execution_count": 48,
   "metadata": {},
   "outputs": [],
   "source": [
    "table=list(body_tag.children)[3]"
   ]
  },
  {
   "cell_type": "code",
   "execution_count": 49,
   "metadata": {},
   "outputs": [],
   "source": [
    "data=list(table.children)[23]\n"
   ]
  },
  {
   "cell_type": "code",
   "execution_count": 50,
   "metadata": {},
   "outputs": [],
   "source": [
    "table_data=list(data.children)[0]"
   ]
  },
  {
   "cell_type": "code",
   "execution_count": 51,
   "metadata": {},
   "outputs": [],
   "source": [
    "table_rows=table_data.find_all('tr')\n",
    " "
   ]
  },
  {
   "cell_type": "code",
   "execution_count": 52,
   "metadata": {},
   "outputs": [],
   "source": [
    "l=[]\n",
    "for tr in table_rows:\n",
    "    td=tr.find_all('td')\n",
    "    row=[tr.text for tr in td]\n",
    "    l.append(row)"
   ]
  },
  {
   "cell_type": "code",
   "execution_count": 53,
   "metadata": {},
   "outputs": [],
   "source": [
    "import pandas as pd"
   ]
  },
  {
   "cell_type": "code",
   "execution_count": 54,
   "metadata": {},
   "outputs": [],
   "source": [
    "freq_chart_df=pd.DataFrame(l,columns=[\"Notes\",\"Freq\",\"Wavelength\"])"
   ]
  },
  {
   "cell_type": "code",
   "execution_count": 55,
   "metadata": {},
   "outputs": [],
   "source": [
    "freq_chart_df[\"Freq\"] = pd.to_numeric(freq_chart_df[\"Freq\"], downcast=\"float\")\n",
    "#pd.options.display.float_format = \"{:,.2f}\".format"
   ]
  },
  {
   "cell_type": "code",
   "execution_count": 56,
   "metadata": {},
   "outputs": [
    {
     "data": {
      "text/plain": [
       "0             C0\n",
       "1       C#0/Db0 \n",
       "2             D0\n",
       "3       D#0/Eb0 \n",
       "4             E0\n",
       "         ...    \n",
       "103           G8\n",
       "104     G#8/Ab8 \n",
       "105           A8\n",
       "106     A#8/Bb8 \n",
       "107           B8\n",
       "Name: Notes, Length: 108, dtype: object"
      ]
     },
     "execution_count": 56,
     "metadata": {},
     "output_type": "execute_result"
    }
   ],
   "source": [
    "freq_chart_df[\"Notes\"]"
   ]
  },
  {
   "cell_type": "code",
   "execution_count": 57,
   "metadata": {},
   "outputs": [],
   "source": [
    "list_of_notes=[]\n",
    "for x in freq_chart_df[\"Notes\"]:\n",
    "    list_of_notes.append(x.strip())"
   ]
  },
  {
   "cell_type": "code",
   "execution_count": 58,
   "metadata": {},
   "outputs": [
    {
     "name": "stdout",
     "output_type": "stream",
     "text": [
      "['C', '0', 'Db0']\n"
     ]
    }
   ],
   "source": [
    "import re\n",
    "\n",
    "print(re.findall(r'\\w+',list_of_notes[1]))"
   ]
  },
  {
   "cell_type": "code",
   "execution_count": 59,
   "metadata": {},
   "outputs": [
    {
     "name": "stdout",
     "output_type": "stream",
     "text": [
      "<re.Match object; span=(0, 2), match='C#'>\n"
     ]
    }
   ],
   "source": [
    "print(re.search(\"C#\",\"C#0/Db0\"))"
   ]
  },
  {
   "cell_type": "code",
   "execution_count": 60,
   "metadata": {},
   "outputs": [],
   "source": [
    "list_of_freq=[]\n",
    "for x in freq_chart_df[\"Freq\"]:\n",
    "    list_of_freq.append(x)"
   ]
  },
  {
   "cell_type": "code",
   "execution_count": 61,
   "metadata": {},
   "outputs": [],
   "source": [
    "freq_chart_dict=dict(zip(list_of_notes,list_of_freq))"
   ]
  },
  {
   "cell_type": "code",
   "execution_count": 62,
   "metadata": {},
   "outputs": [],
   "source": [
    "sharps_flats={}"
   ]
  },
  {
   "cell_type": "code",
   "execution_count": 63,
   "metadata": {},
   "outputs": [],
   "source": [
    "entries_to_remove=[]\n",
    "for x,y in freq_chart_dict.items():\n",
    "    if len(x)>3:\n",
    "        entries_to_remove.append(x)\n",
    "        a,b=tuple(x.split('/'))\n",
    "        sharps_flats[a]=y\n",
    "        sharps_flats[b]=y"
   ]
  },
  {
   "cell_type": "code",
   "execution_count": null,
   "metadata": {},
   "outputs": [],
   "source": []
  },
  {
   "cell_type": "code",
   "execution_count": 64,
   "metadata": {},
   "outputs": [
    {
     "data": {
      "text/plain": [
       "36.709999084472656"
      ]
     },
     "execution_count": 64,
     "metadata": {},
     "output_type": "execute_result"
    }
   ],
   "source": [
    "freq_chart_dict['D1']"
   ]
  },
  {
   "cell_type": "code",
   "execution_count": 65,
   "metadata": {},
   "outputs": [
    {
     "data": {
      "text/plain": [
       "73.41999816894531"
      ]
     },
     "execution_count": 65,
     "metadata": {},
     "output_type": "execute_result"
    }
   ],
   "source": [
    "freq_chart_dict['D2']"
   ]
  },
  {
   "cell_type": "code",
   "execution_count": 66,
   "metadata": {},
   "outputs": [],
   "source": [
    "default_freq=440\n",
    "a=2**(1/12)\n",
    "def calculate_frequency(k):\n",
    "    print (default_freq*(a**k))"
   ]
  },
  {
   "cell_type": "code",
   "execution_count": 67,
   "metadata": {},
   "outputs": [
    {
     "name": "stdout",
     "output_type": "stream",
     "text": [
      "293.66476791740746\n"
     ]
    }
   ],
   "source": [
    "calculate_frequency(k=-7)"
   ]
  },
  {
   "cell_type": "code",
   "execution_count": 68,
   "metadata": {},
   "outputs": [],
   "source": [
    "for item in entries_to_remove:\n",
    "    if item in freq_chart_dict:\n",
    "        del freq_chart_dict[item]"
   ]
  },
  {
   "cell_type": "code",
   "execution_count": 69,
   "metadata": {},
   "outputs": [],
   "source": [
    "freq_dict={**freq_chart_dict,**sharps_flats}"
   ]
  },
  {
   "cell_type": "code",
   "execution_count": 70,
   "metadata": {},
   "outputs": [
    {
     "data": {
      "text/plain": [
       "{'C0': 16.350000381469727,\n",
       " 'D0': 18.350000381469727,\n",
       " 'E0': 20.600000381469727,\n",
       " 'F0': 21.829999923706055,\n",
       " 'G0': 24.5,\n",
       " 'A0': 27.5,\n",
       " 'B0': 30.8700008392334,\n",
       " 'C1': 32.70000076293945,\n",
       " 'D1': 36.709999084472656,\n",
       " 'E1': 41.20000076293945,\n",
       " 'F1': 43.650001525878906,\n",
       " 'G1': 49.0,\n",
       " 'A1': 55.0,\n",
       " 'B1': 61.7400016784668,\n",
       " 'C2': 65.41000366210938,\n",
       " 'D2': 73.41999816894531,\n",
       " 'E2': 82.41000366210938,\n",
       " 'F2': 87.30999755859375,\n",
       " 'G2': 98.0,\n",
       " 'A2': 110.0,\n",
       " 'B2': 123.47000122070312,\n",
       " 'C3': 130.80999755859375,\n",
       " 'D3': 146.8300018310547,\n",
       " 'E3': 164.80999755859375,\n",
       " 'F3': 174.61000061035156,\n",
       " 'G3': 196.0,\n",
       " 'A3': 220.0,\n",
       " 'B3': 246.94000244140625,\n",
       " 'C4': 261.6300048828125,\n",
       " 'D4': 293.6600036621094,\n",
       " 'E4': 329.6300048828125,\n",
       " 'F4': 349.2300109863281,\n",
       " 'G4': 392.0,\n",
       " 'A4': 440.0,\n",
       " 'B4': 493.8800048828125,\n",
       " 'C5': 523.25,\n",
       " 'D5': 587.3300170898438,\n",
       " 'E5': 659.25,\n",
       " 'F5': 698.4600219726562,\n",
       " 'G5': 783.989990234375,\n",
       " 'A5': 880.0,\n",
       " 'B5': 987.77001953125,\n",
       " 'C6': 1046.5,\n",
       " 'D6': 1174.6600341796875,\n",
       " 'E6': 1318.510009765625,\n",
       " 'F6': 1396.9100341796875,\n",
       " 'G6': 1567.97998046875,\n",
       " 'A6': 1760.0,\n",
       " 'B6': 1975.530029296875,\n",
       " 'C7': 2093.0,\n",
       " 'D7': 2349.320068359375,\n",
       " 'E7': 2637.02001953125,\n",
       " 'F7': 2793.830078125,\n",
       " 'G7': 3135.9599609375,\n",
       " 'A7': 3520.0,\n",
       " 'B7': 3951.070068359375,\n",
       " 'C8': 4186.009765625,\n",
       " 'D8': 4698.6298828125,\n",
       " 'E8': 5274.0400390625,\n",
       " 'F8': 5587.64990234375,\n",
       " 'G8': 6271.93017578125,\n",
       " 'A8': 7040.0,\n",
       " 'B8': 7902.1298828125,\n",
       " 'C#0': 17.31999969482422,\n",
       " 'Db0': 17.31999969482422,\n",
       " 'D#0': 19.450000762939453,\n",
       " 'Eb0': 19.450000762939453,\n",
       " 'F#0': 23.1200008392334,\n",
       " 'Gb0': 23.1200008392334,\n",
       " 'G#0': 25.959999084472656,\n",
       " 'Ab0': 25.959999084472656,\n",
       " 'A#0': 29.139999389648438,\n",
       " 'Bb0': 29.139999389648438,\n",
       " 'C#1': 34.650001525878906,\n",
       " 'Db1': 34.650001525878906,\n",
       " 'D#1': 38.88999938964844,\n",
       " 'Eb1': 38.88999938964844,\n",
       " 'F#1': 46.25,\n",
       " 'Gb1': 46.25,\n",
       " 'G#1': 51.90999984741211,\n",
       " 'Ab1': 51.90999984741211,\n",
       " 'A#1': 58.27000045776367,\n",
       " 'Bb1': 58.27000045776367,\n",
       " 'C#2': 69.30000305175781,\n",
       " 'Db2': 69.30000305175781,\n",
       " 'D#2': 77.77999877929688,\n",
       " 'Eb2': 77.77999877929688,\n",
       " 'F#2': 92.5,\n",
       " 'Gb2': 92.5,\n",
       " 'G#2': 103.83000183105469,\n",
       " 'Ab2': 103.83000183105469,\n",
       " 'A#2': 116.54000091552734,\n",
       " 'Bb2': 116.54000091552734,\n",
       " 'C#3': 138.58999633789062,\n",
       " 'Db3': 138.58999633789062,\n",
       " 'D#3': 155.55999755859375,\n",
       " 'Eb3': 155.55999755859375,\n",
       " 'F#3': 185.0,\n",
       " 'Gb3': 185.0,\n",
       " 'G#3': 207.64999389648438,\n",
       " 'Ab3': 207.64999389648438,\n",
       " 'A#3': 233.0800018310547,\n",
       " 'Bb3': 233.0800018310547,\n",
       " 'C#4': 277.17999267578125,\n",
       " 'Db4': 277.17999267578125,\n",
       " 'D#4': 311.1300048828125,\n",
       " 'Eb4': 311.1300048828125,\n",
       " 'F#4': 369.989990234375,\n",
       " 'Gb4': 369.989990234375,\n",
       " 'G#4': 415.29998779296875,\n",
       " 'Ab4': 415.29998779296875,\n",
       " 'A#4': 466.1600036621094,\n",
       " 'Bb4': 466.1600036621094,\n",
       " 'C#5': 554.3699951171875,\n",
       " 'Db5': 554.3699951171875,\n",
       " 'D#5': 622.25,\n",
       " 'Eb5': 622.25,\n",
       " 'F#5': 739.989990234375,\n",
       " 'Gb5': 739.989990234375,\n",
       " 'G#5': 830.6099853515625,\n",
       " 'Ab5': 830.6099853515625,\n",
       " 'A#5': 932.3300170898438,\n",
       " 'Bb5': 932.3300170898438,\n",
       " 'C#6': 1108.72998046875,\n",
       " 'Db6': 1108.72998046875,\n",
       " 'D#6': 1244.510009765625,\n",
       " 'Eb6': 1244.510009765625,\n",
       " 'F#6': 1479.97998046875,\n",
       " 'Gb6': 1479.97998046875,\n",
       " 'G#6': 1661.219970703125,\n",
       " 'Ab6': 1661.219970703125,\n",
       " 'A#6': 1864.6600341796875,\n",
       " 'Bb6': 1864.6600341796875,\n",
       " 'C#7': 2217.4599609375,\n",
       " 'Db7': 2217.4599609375,\n",
       " 'D#7': 2489.02001953125,\n",
       " 'Eb7': 2489.02001953125,\n",
       " 'F#7': 2959.9599609375,\n",
       " 'Gb7': 2959.9599609375,\n",
       " 'G#7': 3322.43994140625,\n",
       " 'Ab7': 3322.43994140625,\n",
       " 'A#7': 3729.31005859375,\n",
       " 'Bb7': 3729.31005859375,\n",
       " 'C#8': 4434.919921875,\n",
       " 'Db8': 4434.919921875,\n",
       " 'D#8': 4978.02978515625,\n",
       " 'Eb8': 4978.02978515625,\n",
       " 'F#8': 5919.91015625,\n",
       " 'Gb8': 5919.91015625,\n",
       " 'G#8': 6644.8798828125,\n",
       " 'Ab8': 6644.8798828125,\n",
       " 'A#8': 7458.6201171875,\n",
       " 'Bb8': 7458.6201171875}"
      ]
     },
     "execution_count": 70,
     "metadata": {},
     "output_type": "execute_result"
    }
   ],
   "source": [
    "freq_dict"
   ]
  },
  {
   "cell_type": "code",
   "execution_count": 71,
   "metadata": {},
   "outputs": [
    {
     "data": {
      "text/plain": [
       "554.3699951171875"
      ]
     },
     "execution_count": 71,
     "metadata": {},
     "output_type": "execute_result"
    }
   ],
   "source": [
    "freq_dict['C#5']"
   ]
  },
  {
   "cell_type": "code",
   "execution_count": 72,
   "metadata": {},
   "outputs": [],
   "source": [
    "note_set=set()\n",
    "for x in freq_dict.keys():\n",
    "    if len(x)==2:\n",
    "        note_set.add(x[:1])\n",
    "    else:\n",
    "        note_set.add(x[:2])"
   ]
  },
  {
   "cell_type": "code",
   "execution_count": 73,
   "metadata": {},
   "outputs": [],
   "source": [
    "note_dict={}\n",
    "for x in note_set:\n",
    "    note_dict[x]=0"
   ]
  },
  {
   "cell_type": "code",
   "execution_count": 74,
   "metadata": {},
   "outputs": [],
   "source": [
    "note_dict['A']=0\n",
    "note_dict['A#']=0.5\n",
    "note_dict['Bb']=0.5\n",
    "note_dict['B']=1\n",
    "note_dict['C']=1.5\n",
    "note_dict['C#']=2\n",
    "note_dict['Db']=2\n",
    "note_dict['D']=2.5\n",
    "note_dict['D#']=3\n",
    "note_dict['Eb']=3\n",
    "note_dict['E']=3.5\n",
    "note_dict['F']=4\n",
    "note_dict['F#']=4.5\n",
    "note_dict['Gb']=4.5\n",
    "note_dict['G']=5\n",
    "note_dict['G#']=5.5\n",
    "note_dict['Ab']=5.5"
   ]
  },
  {
   "cell_type": "code",
   "execution_count": 75,
   "metadata": {},
   "outputs": [],
   "source": [
    "note_dict_full_step={}"
   ]
  },
  {
   "cell_type": "code",
   "execution_count": 76,
   "metadata": {},
   "outputs": [],
   "source": [
    "note_dict_full_step['A']=0\n",
    "note_dict_full_step['A#']=1\n",
    "note_dict_full_step['Bb']=1\n",
    "note_dict_full_step['B']=2\n",
    "note_dict_full_step['C']=3\n",
    "note_dict_full_step['C#']=4\n",
    "note_dict_full_step['Db']=4\n",
    "note_dict_full_step['D']=5\n",
    "note_dict_full_step['D#']=6\n",
    "note_dict_full_step['Eb']=6\n",
    "note_dict_full_step['E']=7\n",
    "note_dict_full_step['F']=8\n",
    "note_dict_full_step['F#']=9\n",
    "note_dict_full_step['Gb']=9\n",
    "note_dict_full_step['G']=10\n",
    "note_dict_full_step['G#']=11\n",
    "note_dict_full_step['Ab']=11"
   ]
  },
  {
   "cell_type": "code",
   "execution_count": 77,
   "metadata": {},
   "outputs": [],
   "source": [
    "def find_major_minor(start_chord):\n",
    "    if len(start_chord)>1 and start_chord[-1]=='m':\n",
    "        step_ratio=(3,4)\n",
    "    else:\n",
    "        step_ratio=(4,3)\n",
    "    return step_ratio"
   ]
  },
  {
   "cell_type": "code",
   "execution_count": 78,
   "metadata": {},
   "outputs": [],
   "source": [
    "Progression=['F', 'Dm', 'C']\n",
    "#chord='A'"
   ]
  },
  {
   "cell_type": "code",
   "execution_count": 79,
   "metadata": {},
   "outputs": [],
   "source": [
    "def find_note(next_note):\n",
    "    return list(note_dict.keys())[list(note_dict.values()).index(next_note)]"
   ]
  },
  {
   "cell_type": "code",
   "execution_count": 80,
   "metadata": {},
   "outputs": [],
   "source": [
    "def figure_out_chords(progression):\n",
    "    \n",
    "    root_chords=[]\n",
    "\n",
    "    for x in progression:\n",
    "        \n",
    "        start_chord=x\n",
    "        print(\"starting note is:\",start_chord)\n",
    "        if len(start_chord)==3 and start_chord[-1]=='m':\n",
    "            root_node=start_chord[:2]\n",
    "        elif len(start_chord)==2 and start_chord[-1]=='m':\n",
    "            root_node=start_chord[0]\n",
    "        elif len(start_chord)==2 and start_chord[-1] != 'm':\n",
    "            root_node=start_chord[:2]\n",
    "        else:\n",
    "            root_node=start_chord[0]\n",
    "\n",
    "\n",
    "\n",
    "\n",
    "        step_ratio=find_major_minor(start_chord=start_chord)\n",
    "        print(step_ratio)\n",
    "        #print(root_node)\n",
    "\n",
    "        find_next_note=step_ratio[0]*(0.5)+note_dict[root_node]\n",
    "        \n",
    "        if find_next_note not in list(note_dict.values()):\n",
    "            diff=find_next_note-max(list(note_dict.values()))\n",
    "            if diff==0.5:\n",
    "                sec_note='A'\n",
    "            else:\n",
    "                sec_note= find_note(next_note=diff-0.5)\n",
    "        else:\n",
    "            sec_note=find_note(next_note=find_next_note)\n",
    "\n",
    "\n",
    "\n",
    "        #print(sec_note)\n",
    "\n",
    "        find_next_note=step_ratio[1]*(0.5)+note_dict[sec_note]\n",
    "        \n",
    "        if find_next_note not in list(note_dict.values()):\n",
    "            diff=find_next_note-max(list(note_dict.values()))\n",
    "            if diff==0.5:\n",
    "                third_note='A'\n",
    "            else:\n",
    "                third_note=find_note(next_note=diff-0.5)\n",
    "        else:\n",
    "            third_note=find_note(next_note=find_next_note)\n",
    "        \n",
    "        #print(third_note)\n",
    "\n",
    "        root_chords.append([root_node,sec_note,third_note])\n",
    "    \n",
    "    #print(root_chords)\n",
    "\n",
    "    return root_chords\n"
   ]
  },
  {
   "cell_type": "code",
   "execution_count": 81,
   "metadata": {},
   "outputs": [
    {
     "name": "stdout",
     "output_type": "stream",
     "text": [
      "starting note is: F\n",
      "(4, 3)\n",
      "starting note is: Dm\n",
      "(3, 4)\n",
      "starting note is: C\n",
      "(4, 3)\n",
      "[['F', 'A', 'C'], ['D', 'F', 'A'], ['C', 'E', 'G']]\n"
     ]
    }
   ],
   "source": [
    "root_chords=figure_out_chords(progression=Progression)\n",
    "print(root_chords)"
   ]
  },
  {
   "cell_type": "code",
   "execution_count": 82,
   "metadata": {},
   "outputs": [],
   "source": [
    "Inversion_chords=[]"
   ]
  },
  {
   "cell_type": "code",
   "execution_count": 83,
   "metadata": {},
   "outputs": [],
   "source": [
    "for x in root_chords:\n",
    "    Inversion_chords.append([''.join(x)])"
   ]
  },
  {
   "cell_type": "code",
   "execution_count": 84,
   "metadata": {},
   "outputs": [
    {
     "data": {
      "text/plain": [
       "[['FAC'], ['DFA'], ['CEG']]"
      ]
     },
     "execution_count": 84,
     "metadata": {},
     "output_type": "execute_result"
    }
   ],
   "source": [
    "Inversion_chords"
   ]
  },
  {
   "cell_type": "code",
   "execution_count": 85,
   "metadata": {},
   "outputs": [
    {
     "name": "stdout",
     "output_type": "stream",
     "text": [
      "[['FAC', 'ACF', 'CFA'], ['DFA', 'FAD', 'ADF'], ['CEG', 'EGC', 'GCE']]\n"
     ]
    }
   ],
   "source": [
    "def leftRotate(arr, d, n, count):\n",
    "    for i in range(d):\n",
    "        leftRotatebyOne(arr, n, count)\n",
    " \n",
    "def leftRotatebyOne(arr, n, count):\n",
    "    #arr=list(arr)\n",
    "    temp = arr[0]\n",
    "    for i in range(n-1):\n",
    "        arr[i] = arr[i + 1]\n",
    "    arr[n-1] = temp\n",
    "    inv=''.join(arr) \n",
    "    Inversion_chords[count].append(inv)\n",
    "  \n",
    "i,j,y=0,0,0\n",
    "while(len(Inversion_chords)>0):\n",
    "    leftRotate(root_chords[i],1,3,i)\n",
    "    j=j+1\n",
    "    if j==2:\n",
    "        i=i+1\n",
    "        j=0\n",
    "    if i==len(Inversion_chords):\n",
    "        break\n",
    "       \n",
    "\n",
    "print(Inversion_chords)"
   ]
  },
  {
   "cell_type": "code",
   "execution_count": 86,
   "metadata": {},
   "outputs": [],
   "source": [
    "Start_limit='C4'\n",
    "Pivot='A4'\n",
    "End_limit='C6'\n",
    "freq_start_limit=freq_dict[Start_limit]\n",
    "pivot_freq=freq_dict[Pivot]\n",
    "freq_end_limit=freq_dict[End_limit]"
   ]
  },
  {
   "cell_type": "code",
   "execution_count": 86,
   "metadata": {},
   "outputs": [],
   "source": [
    " \n",
    "             \n"
   ]
  },
  {
   "cell_type": "code",
   "execution_count": null,
   "metadata": {},
   "outputs": [],
   "source": []
  }
 ],
 "metadata": {
  "interpreter": {
   "hash": "3465c979c03b0b4211feca28019900ec8996cbee3c6273c7ddaef6e9d9d02632"
  },
  "kernelspec": {
   "display_name": "Python 3.8.5 64-bit ('myENV': conda)",
   "name": "python3"
  },
  "language_info": {
   "codemirror_mode": {
    "name": "ipython",
    "version": 3
   },
   "file_extension": ".py",
   "mimetype": "text/x-python",
   "name": "python",
   "nbconvert_exporter": "python",
   "pygments_lexer": "ipython3",
   "version": "3.8.5"
  },
  "orig_nbformat": 2
 },
 "nbformat": 4,
 "nbformat_minor": 2
}
